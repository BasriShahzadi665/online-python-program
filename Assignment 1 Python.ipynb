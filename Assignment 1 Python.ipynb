{
 "cells": [
  {
   "cell_type": "code",
   "execution_count": 1,
   "metadata": {},
   "outputs": [
    {
     "name": "stdout",
     "output_type": "stream",
     "text": [
      "Twinkle,twinkle,little star\n",
      "        How I wonder what you are!\n",
      "                Up above the world so high,\n",
      "                Like a diamond in the sky.\n",
      "Twinkle,twinkle,little star\n",
      "        How I wonder what you are!\n"
     ]
    }
   ],
   "source": [
    "#Q1 Write a program to print Following string in specific format...\n",
    "print(\"Twinkle,twinkle,little star\")\n",
    "print(\"        How I wonder what you are!\")\n",
    "print(\"                Up above the world so high,\")\n",
    "print(\"                Like a diamond in the sky.\")\n",
    "print(\"Twinkle,twinkle,little star\")\n",
    "print(\"        How I wonder what you are!\")"
   ]
  },
  {
   "cell_type": "code",
   "execution_count": 2,
   "metadata": {},
   "outputs": [
    {
     "name": "stdout",
     "output_type": "stream",
     "text": [
      "The Current Version of Python is :3.7.6 (default, Jan  8 2020, 20:23:39) [MSC v.1916 64 bit (AMD64)]\n"
     ]
    }
   ],
   "source": [
    "# Q2 Write A program to get the Current Version of python\n",
    "import sys\n",
    "pythonversion= print(\"The Current Version of Python is :\" + sys.version);"
   ]
  },
  {
   "cell_type": "code",
   "execution_count": null,
   "metadata": {},
   "outputs": [],
   "source": [
    "#Q4 Write a program which accepts the radious of circle from user and compute the area\n",
    "import math\n",
    "radius=float(input(\"Enter the radius of circle:\"));\n",
    "area=math.pi * radius * radius;\n",
    "print(\"Area of circle is:{0}\".format(area))"
   ]
  },
  {
   "cell_type": "code",
   "execution_count": 14,
   "metadata": {},
   "outputs": [
    {
     "name": "stdout",
     "output_type": "stream",
     "text": [
      "Current date is :2022-01-01 Current Time is: 22:11:17\n"
     ]
    }
   ],
   "source": [
    "# Q3 Write a Program to display the current date and time\n",
    "import datetime\n",
    "now = datetime.datetime.now()\n",
    "print (\"Current date is :\"+ now.strftime(\"%Y-%m-%d\")  + \" Current Time is: \"+ now.strftime(\"%H:%M:%S\") )\n"
   ]
  },
  {
   "cell_type": "code",
   "execution_count": 20,
   "metadata": {},
   "outputs": [
    {
     "name": "stdout",
     "output_type": "stream",
     "text": [
      "Enter the radius of circle21\n",
      "Area of circle is: 1384.74 with radius 21.0\n"
     ]
    }
   ],
   "source": [
    "#Q4 Radius of circle from user and compute the area\n",
    "radius=float(input(\"Enter the radius of circle\"))\n",
    "area=3.14*radius*radius\n",
    "print(\"Area of circle is:\",area,\"with radius\",radius)"
   ]
  },
  {
   "cell_type": "code",
   "execution_count": 24,
   "metadata": {},
   "outputs": [
    {
     "name": "stdout",
     "output_type": "stream",
     "text": [
      "Enter the first name :Basri\n",
      "Enter the last name :Shahzadi\n",
      "Shahzadi  Basri\n"
     ]
    }
   ],
   "source": [
    "#Q5 program which accepts user first and last name and print in reverse order\n",
    "fname=input(\"Enter the first name :\")\n",
    "lname=input(\"Enter the last name :\")\n",
    "print(lname,\"\",fname)\n",
    "\n",
    "\n"
   ]
  },
  {
   "cell_type": "code",
   "execution_count": 25,
   "metadata": {},
   "outputs": [
    {
     "name": "stdout",
     "output_type": "stream",
     "text": [
      "Enter the first number :11\n",
      "enter the second number :22\n",
      "33\n"
     ]
    }
   ],
   "source": [
    "#Q6 add two number\n",
    "num1=int(input(\"Enter the first number :\"))\n",
    "num2=int(input(\"enter the second number :\"))\n",
    "sum=num1+num2\n",
    "print(sum)"
   ]
  },
  {
   "cell_type": "code",
   "execution_count": null,
   "metadata": {},
   "outputs": [],
   "source": []
  }
 ],
 "metadata": {
  "kernelspec": {
   "display_name": "Python 3",
   "language": "python",
   "name": "python3"
  },
  "language_info": {
   "codemirror_mode": {
    "name": "ipython",
    "version": 3
   },
   "file_extension": ".py",
   "mimetype": "text/x-python",
   "name": "python",
   "nbconvert_exporter": "python",
   "pygments_lexer": "ipython3",
   "version": "3.7.6"
  }
 },
 "nbformat": 4,
 "nbformat_minor": 4
}
